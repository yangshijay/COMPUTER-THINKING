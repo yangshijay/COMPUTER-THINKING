{
  "nbformat": 4,
  "nbformat_minor": 0,
  "metadata": {
    "colab": {
      "name": "黃政傑-WEEK11.ipynb",
      "provenance": [],
      "authorship_tag": "ABX9TyP2KlJAFxv8y5lJQCLUdXUL",
      "include_colab_link": true
    },
    "kernelspec": {
      "name": "python3",
      "display_name": "Python 3"
    }
  },
  "cells": [
    {
      "cell_type": "markdown",
      "metadata": {
        "id": "view-in-github",
        "colab_type": "text"
      },
      "source": [
        "<a href=\"https://colab.research.google.com/github/yangshijay/COMPUTER-THINKING/blob/main/%E9%BB%83%E6%94%BF%E5%82%91_WEEK11.ipynb\" target=\"_parent\"><img src=\"https://colab.research.google.com/assets/colab-badge.svg\" alt=\"Open In Colab\"/></a>"
      ]
    },
    {
      "cell_type": "code",
      "metadata": {
        "id": "jyaB1civ5hDt"
      },
      "source": [
        ""
      ],
      "execution_count": null,
      "outputs": []
    },
    {
      "cell_type": "code",
      "metadata": {
        "colab": {
          "base_uri": "https://localhost:8080/"
        },
        "id": "_z8YeCQvwD-c",
        "outputId": "e5b53e70-316a-40da-e8d3-e6f26fba41f6"
      },
      "source": [
        "# 方法(一):商數\n",
        "## Input\n",
        "number = input(\"Enter your seat number?\")\n",
        "number = int(number)\n",
        "## Process\n",
        "group = (number - 1) // 5 + 1\n",
        "## Output\n",
        "print(\"Group is\", group)"
      ],
      "execution_count": null,
      "outputs": [
        {
          "output_type": "stream",
          "text": [
            "Enter your seat number?19\n",
            "Group is 4\n"
          ],
          "name": "stdout"
        }
      ]
    },
    {
      "cell_type": "markdown",
      "metadata": {
        "id": "cd9IpvSZ5t52"
      },
      "source": [
        "組長:黃政傑\n",
        "宋文宗\n",
        "楊宗鉞\n",
        "林暉恩\n",
        "陳瀚唯\n",
        "黃建程"
      ]
    }
  ]
}